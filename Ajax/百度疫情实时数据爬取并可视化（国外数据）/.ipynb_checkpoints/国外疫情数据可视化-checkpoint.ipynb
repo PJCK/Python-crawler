{
 "cells": [
  {
   "cell_type": "code",
   "execution_count": null,
   "metadata": {},
   "outputs": [],
   "source": [
    "import requests\n",
    "import json\n",
    "import re"
   ]
  },
  {
   "cell_type": "code",
   "execution_count": null,
   "metadata": {},
   "outputs": [],
   "source": [
    "'''\n",
    "网址：https://voice.baidu.com/act/newpneumonia/newpneumonia/?from=osari_aladin_banner#tab4\n",
    "可以爬取历史数据\n",
    "在Network的JS中，有国内和世界的历史数据，可以爬取作为数据分析和数据可视化用的\n",
    "'''\n",
    "\n",
    "headers = {\n",
    "    'user-agent': 'Mozilla/5.0 (Windows NT 10.0; Win64; x64) AppleWebKit/537.36 (KHTML, like Gecko) Chrome/87.0.4280.88 Safari/537.36'\n",
    "}\n",
    "#下面的网址是变化的，怎么自动获取现在尚不清楚\n",
    "request_url = 'https://voice.baidu.com/newpneumonia/get?target=trend&isCaseIn=1&stage=publish&callback=jsonp_1609333474158_99551'\n",
    "'''\n",
    "针对jsonp的修改的方法：先转为字符串，然后把那个时间戳去掉，最后把圆括号去掉，使其符合json格式\n",
    "'''\n",
    "text = requests.get(request_url, headers=headers)\n",
    "text = text.text\n",
    "# text = text.replace('jsonp_1609240013572_58685', '')\n",
    "text = re.sub('jsonp_[0-9]{13}_[0-9]{5}', '', text) #正则表达式\n",
    "text = text[1:-2]\n",
    "# print(text)\n",
    "results = json.loads(text)"
   ]
  },
  {
   "cell_type": "code",
   "execution_count": null,
   "metadata": {
    "scrolled": true
   },
   "outputs": [],
   "source": [
    "Date = results['data'][209]['trend']['updateDate']"
   ]
  },
  {
   "cell_type": "code",
   "execution_count": null,
   "metadata": {},
   "outputs": [],
   "source": [
    "import pandas as pd"
   ]
  },
  {
   "cell_type": "code",
   "execution_count": null,
   "metadata": {},
   "outputs": [],
   "source": [
    "DatePd = pd.DataFrame(Date, columns=['country'])"
   ]
  },
  {
   "cell_type": "code",
   "execution_count": null,
   "metadata": {
    "scrolled": true
   },
   "outputs": [],
   "source": [
    "Country = []\n",
    "for name in results['data']:\n",
    "    Country.append(name['name'])\n",
    "Country"
   ]
  },
  {
   "cell_type": "code",
   "execution_count": null,
   "metadata": {},
   "outputs": [],
   "source": [
    "dayNum = len(Date)"
   ]
  },
  {
   "cell_type": "code",
   "execution_count": null,
   "metadata": {},
   "outputs": [],
   "source": [
    "FinalDataFrame = DatePd"
   ]
  },
  {
   "cell_type": "code",
   "execution_count": null,
   "metadata": {},
   "outputs": [],
   "source": [
    "for country in results['data']:\n",
    "    dayStart = dayNum - len(country['trend']['list'][0]['data'])\n",
    "    totalCasesToday = []\n",
    "    for _ in range(dayStart):\n",
    "        totalCasesToday.append(0)\n",
    "    for case in country['trend']['list'][0]['data']:\n",
    "        totalCasesToday.append(case)\n",
    "    countryCasesFrame = pd.DataFrame(totalCasesToday)\n",
    "    countryCasesFrame.columns = [country['name']]\n",
    "    FinalDataFrame = pd.concat([FinalDataFrame, countryCasesFrame], axis=1)"
   ]
  },
  {
   "cell_type": "code",
   "execution_count": null,
   "metadata": {},
   "outputs": [],
   "source": [
    "FinalData = pd.DataFrame(FinalDataFrame.values.T, index=FinalDataFrame.columns, columns=FinalDataFrame.index)\n",
    "FinalData"
   ]
  },
  {
   "cell_type": "code",
   "execution_count": null,
   "metadata": {},
   "outputs": [],
   "source": [
    "import json"
   ]
  },
  {
   "cell_type": "code",
   "execution_count": null,
   "metadata": {},
   "outputs": [],
   "source": [
    "with open('国家与洲.json', 'r', encoding='utf-8') as f:\n",
    "    json_data = json.load(f)"
   ]
  },
  {
   "cell_type": "code",
   "execution_count": null,
   "metadata": {},
   "outputs": [],
   "source": [
    "from collections import defaultdict"
   ]
  },
  {
   "cell_type": "code",
   "execution_count": null,
   "metadata": {},
   "outputs": [],
   "source": [
    "dict = defaultdict(int)"
   ]
  },
  {
   "cell_type": "code",
   "execution_count": null,
   "metadata": {},
   "outputs": [],
   "source": [
    "for name in json_data:\n",
    "    dict[name['country_cname']] = name['continent_cname']"
   ]
  },
  {
   "cell_type": "code",
   "execution_count": null,
   "metadata": {
    "scrolled": true
   },
   "outputs": [],
   "source": [
    "Continent = ['Continent']\n",
    "for country in Country:\n",
    "    if dict[country] == 0:\n",
    "        Continent.append('未确定')\n",
    "    else:\n",
    "        Continent.append(dict[country])\n",
    "Continent"
   ]
  },
  {
   "cell_type": "code",
   "execution_count": null,
   "metadata": {},
   "outputs": [],
   "source": [
    "# dataContinent = pd.DataFrame(Continent, columns=['Continent'])\n",
    "col_name = FinalData.columns.tolist()\n",
    "col_name.insert(0, 'Continent')\n",
    "FinalData = FinalData.reindex(columns=col_name)\n",
    "FinalData['Continent'] = Continent"
   ]
  },
  {
   "cell_type": "code",
   "execution_count": null,
   "metadata": {},
   "outputs": [],
   "source": [
    "FinalData"
   ]
  },
  {
   "cell_type": "code",
   "execution_count": null,
   "metadata": {},
   "outputs": [],
   "source": [
    "FinalData.to_csv('WorldCasesCovid19.csv', header=False)"
   ]
  },
  {
   "cell_type": "markdown",
   "metadata": {},
   "source": [
    "### 这个程序现有的问题是如何把国内的数据添加到这儿，思路是把各省的数据统计起来"
   ]
  },
  {
   "cell_type": "markdown",
   "metadata": {},
   "source": [
    "### 接下来可以利用现有的可视化工具，比如Flourish等，可以快速得到动态可视化结果，也可以直接编写程序"
   ]
  },
  {
   "cell_type": "code",
   "execution_count": null,
   "metadata": {},
   "outputs": [],
   "source": []
  }
 ],
 "metadata": {
  "kernelspec": {
   "display_name": "Python 3",
   "language": "python",
   "name": "python3"
  },
  "language_info": {
   "codemirror_mode": {
    "name": "ipython",
    "version": 3
   },
   "file_extension": ".py",
   "mimetype": "text/x-python",
   "name": "python",
   "nbconvert_exporter": "python",
   "pygments_lexer": "ipython3",
   "version": "3.8.5"
  }
 },
 "nbformat": 4,
 "nbformat_minor": 4
}
